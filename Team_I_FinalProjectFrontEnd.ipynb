{
  "cells": [
    {
      "cell_type": "code",
      "execution_count": 1,
      "metadata": {
        "id": "t80rcKnY5Z4N",
        "colab": {
          "base_uri": "https://localhost:8080/"
        },
        "outputId": "9191f6f9-fda8-4ed9-8284-2d14f8a8bb74"
      },
      "outputs": [
        {
          "output_type": "stream",
          "name": "stdout",
          "text": [
            "Mounted at /content/drive\n"
          ]
        }
      ],
      "source": [
        "#connecting to google drive\n",
        "from google.colab import drive\n",
        "drive.mount('/content/drive')"
      ]
    },
    {
      "cell_type": "code",
      "execution_count": 2,
      "metadata": {
        "colab": {
          "base_uri": "https://localhost:8080/"
        },
        "id": "LlACKVjSBpcO",
        "outputId": "91e95099-addf-4b04-cb81-d0ff93e6496a"
      },
      "outputs": [
        {
          "output_type": "stream",
          "name": "stdout",
          "text": [
            "\u001b[2K     \u001b[90m━━━━━━━━━━━━━━━━━━━━━━━━━━━━━━━━━━━━━━━━\u001b[0m \u001b[32m44.8/44.8 kB\u001b[0m \u001b[31m907.8 kB/s\u001b[0m eta \u001b[36m0:00:00\u001b[0m\n",
            "\u001b[2K     \u001b[90m━━━━━━━━━━━━━━━━━━━━━━━━━━━━━━━━━━━━━━━━\u001b[0m \u001b[32m99.7/99.7 kB\u001b[0m \u001b[31m3.1 MB/s\u001b[0m eta \u001b[36m0:00:00\u001b[0m\n",
            "\u001b[?25h\u001b[31mERROR: Cannot uninstall 'blinker'. It is a distutils installed project and thus we cannot accurately determine which files belong to it which would lead to only a partial uninstall.\u001b[0m\u001b[31m\n"
          ]
        }
      ],
      "source": [
        "#installing libraries\n",
        "!pip install -U -q PyMySQL sqlalchemy flask pyngrok\n",
        "\n",
        "#importing packages needed\n",
        "import os\n",
        "import pandas as pd\n",
        "from sqlalchemy import create_engine, text\n",
        "import base64\n",
        "from io import BytesIO\n",
        "import matplotlib.pyplot as plt\n",
        "from flask import Flask\n",
        "from pyngrok import ngrok\n",
        "\n",
        "from flask import render_template, jsonify\n",
        "\n",
        "#opening a ngrok tunnel to the HTTP server\n",
        "ngrok_authtoken = '2ZCCZN211CCMaNjNwpc4BHowN8U_2kzBf7Z59PjJERdWT6ta7' #our ngrok key, feel free to change\n",
        "ngrok.set_auth_token(ngrok_authtoken)"
      ]
    },
    {
      "cell_type": "code",
      "execution_count": 3,
      "metadata": {
        "colab": {
          "base_uri": "https://localhost:8080/"
        },
        "id": "o0FW5oDW57Xu",
        "outputId": "302f873c-59fa-4ff1-eda3-0c43f3a6ed69"
      },
      "outputs": [
        {
          "output_type": "stream",
          "name": "stdout",
          "text": [
            " * Our page is at https://a27e-35-185-101-126.ngrok-free.app/\n",
            " * Serving Flask app '__main__'\n",
            " * Debug mode: off\n"
          ]
        },
        {
          "output_type": "stream",
          "name": "stderr",
          "text": [
            "INFO:werkzeug:\u001b[31m\u001b[1mWARNING: This is a development server. Do not use it in a production deployment. Use a production WSGI server instead.\u001b[0m\n",
            " * Running on http://127.0.0.1:5000\n",
            "INFO:werkzeug:\u001b[33mPress CTRL+C to quit\u001b[0m\n",
            "INFO:werkzeug:127.0.0.1 - - [12/Dec/2023 02:30:41] \"GET / HTTP/1.1\" 200 -\n",
            "INFO:werkzeug:127.0.0.1 - - [12/Dec/2023 02:30:43] \"\u001b[33mGET /favicon.ico HTTP/1.1\u001b[0m\" 404 -\n",
            "INFO:werkzeug:127.0.0.1 - - [12/Dec/2023 02:31:17] \"GET /map HTTP/1.1\" 200 -\n",
            "INFO:werkzeug:127.0.0.1 - - [12/Dec/2023 02:35:01] \"GET / HTTP/1.1\" 200 -\n",
            "INFO:werkzeug:127.0.0.1 - - [12/Dec/2023 02:35:48] \"GET / HTTP/1.1\" 200 -\n",
            "INFO:werkzeug:127.0.0.1 - - [12/Dec/2023 02:36:00] \"GET /map HTTP/1.1\" 200 -\n",
            "INFO:werkzeug:127.0.0.1 - - [12/Dec/2023 02:36:16] \"GET /map HTTP/1.1\" 200 -\n",
            "INFO:werkzeug:127.0.0.1 - - [12/Dec/2023 02:36:30] \"GET /map HTTP/1.1\" 200 -\n",
            "INFO:werkzeug:127.0.0.1 - - [12/Dec/2023 02:36:54] \"GET / HTTP/1.1\" 200 -\n",
            "INFO:werkzeug:127.0.0.1 - - [12/Dec/2023 02:36:55] \"\u001b[33mGET /favicon.ico HTTP/1.1\u001b[0m\" 404 -\n",
            "INFO:werkzeug:127.0.0.1 - - [12/Dec/2023 02:36:56] \"GET /map HTTP/1.1\" 200 -\n",
            "WARNING:pyngrok.process.ngrok:t=2023-12-12T02:53:22+0000 lvl=warn msg=\"Stopping forwarder\" name=http-5000-a623e2fa-44fd-4c71-9a75-2ecda3da9224 acceptErr=\"failed to accept connection: Listener closed\"\n",
            "WARNING:pyngrok.process.ngrok:t=2023-12-12T02:53:22+0000 lvl=warn msg=\"Error restarting forwarder\" name=http-5000-a623e2fa-44fd-4c71-9a75-2ecda3da9224 err=\"failed to start tunnel: session closed\"\n"
          ]
        }
      ],
      "source": [
        "#importing specific packages\n",
        "from flask import Flask, jsonify, request\n",
        "import pymysql\n",
        "from io import BytesIO\n",
        "\n",
        "port = 5000\n",
        "app = Flask(__name__, template_folder = '/content/drive/MyDrive/templates')\n",
        "public_url = ngrok.connect(port).public_url\n",
        "app.config[\"BASE_URL\"] = public_url\n",
        "\n",
        "#set app route to display map\n",
        "@app.route('/map',  methods=['GET'])\n",
        "def map():\n",
        "    return render_template(\"finalmap.html\")\n",
        "\n",
        "#set app route to display homepage\n",
        "@app.route('/',  methods=['GET'])\n",
        "def groupIfinalproject():\n",
        "    return render_template(\"finalproject.html\")\n",
        "\n",
        "#click to see URL\n",
        "print(f\" * Our page is at {public_url}/\")\n",
        "app.run(use_reloader=False, port=port)"
      ]
    }
  ],
  "metadata": {
    "colab": {
      "provenance": []
    },
    "kernelspec": {
      "display_name": "Python 3",
      "name": "python3"
    },
    "language_info": {
      "name": "python"
    }
  },
  "nbformat": 4,
  "nbformat_minor": 0
}